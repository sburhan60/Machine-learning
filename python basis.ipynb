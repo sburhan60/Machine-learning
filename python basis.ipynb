{
 "cells": [
  {
   "cell_type": "code",
   "execution_count": 4,
   "id": "0cfd79e7",
   "metadata": {},
   "outputs": [
    {
     "name": "stdout",
     "output_type": "stream",
     "text": [
      "6.8580000000000005 (-10-6j) -100\n"
     ]
    }
   ],
   "source": [
    "#data numeric type.\n",
    "a= 10 #integer types\n",
    "b=-10\n",
    "c= 3.142 # float types\n",
    "d=0.142\n",
    "e= 10+3j\n",
    "f=6j\n",
    "#print(a+b,c-d,e-f, end='\\n')\n",
    "print (a-c,b-f,a*b, end='\\n')"
   ]
  },
  {
   "cell_type": "code",
   "execution_count": 6,
   "id": "9073e9eb",
   "metadata": {},
   "outputs": [
    {
     "name": "stdout",
     "output_type": "stream",
     "text": [
      "after converting to interger base 2: 18\n"
     ]
    }
   ],
   "source": [
    "s=\"10010\" # start string\n",
    "c=int(s,2) # printing string converting to int base 2\n",
    "print ('after converting to interger base 2: %d'%c,end='\\n')"
   ]
  },
  {
   "cell_type": "code",
   "execution_count": 7,
   "id": "b781f5df",
   "metadata": {},
   "outputs": [
    {
     "name": "stdout",
     "output_type": "stream",
     "text": [
      "after converting string to tuple : ('s', 'y', 'e', 'd', ' ', 'b', 'u', 'r', 'h', 'a', 'n', 'u', 'd', 'e', 'e', 'n')\n"
     ]
    }
   ],
   "source": [
    "s='syed burhanudeen' # intializing string\n",
    "#printing string converting to tuple\n",
    "c=tuple(s)\n",
    "print('after converting string to tuple :',c,end=\"\\n\")"
   ]
  },
  {
   "cell_type": "code",
   "execution_count": 8,
   "id": "39dbb849",
   "metadata": {},
   "outputs": [
    {
     "name": "stdout",
     "output_type": "stream",
     "text": [
      "after converting string to set: {'a', 'b', 's', 'e', 'u', 'h', 'n', ' ', 'r', 'd', 'y'}\n"
     ]
    }
   ],
   "source": [
    "#printing string converting to set\n",
    "c=set(s)\n",
    "print('after converting string to set:',c,end=\"\\n\")"
   ]
  },
  {
   "cell_type": "code",
   "execution_count": 9,
   "id": "bfe5c92e",
   "metadata": {},
   "outputs": [
    {
     "name": "stdout",
     "output_type": "stream",
     "text": [
      "after converting string to list: ['s', 'y', 'e', 'd', ' ', 'b', 'u', 'r', 'h', 'a', 'n', 'u', 'd', 'e', 'e', 'n']\n"
     ]
    }
   ],
   "source": [
    "#printing string converting to list\n",
    "c=list(s)\n",
    "print('after converting string to list:',c,end=\"\\n\")"
   ]
  },
  {
   "cell_type": "code",
   "execution_count": 2,
   "id": "9dd7d4a4",
   "metadata": {},
   "outputs": [],
   "source": [
    "#initializing integers\n",
    "a=1\n",
    "b=2\n",
    "tup=(('a',1), ('f',2), ('g',3))# initializing tuple"
   ]
  },
  {
   "cell_type": "code",
   "execution_count": 3,
   "id": "79753554",
   "metadata": {},
   "outputs": [
    {
     "name": "stdout",
     "output_type": "stream",
     "text": [
      "After converting integer to complex number : (1+2j)\n",
      "after converting integer to string: 1\n",
      "after converting tuple to dictionary: {'a': 1, 'f': 2, 'g': 3}\n"
     ]
    }
   ],
   "source": [
    "#printing integer converting to complex number\n",
    "c=complex(1,2)\n",
    "print('After converting integer to complex number :',c,end=\"\\n\")\n",
    "#printing integer converting to string\n",
    "c=str(a)\n",
    "print(\"after converting integer to string:\",c,end=\"\\n\")\n",
    "#printing tuple converting to expression dictionary\n",
    "c=dict(tup)\n",
    "print(\"after converting tuple to dictionary:\",c,end=\"\\n\")"
   ]
  },
  {
   "cell_type": "code",
   "execution_count": null,
   "id": "b81ada90",
   "metadata": {},
   "outputs": [],
   "source": []
  }
 ],
 "metadata": {
  "kernelspec": {
   "display_name": "Python 3 (ipykernel)",
   "language": "python",
   "name": "python3"
  },
  "language_info": {
   "codemirror_mode": {
    "name": "ipython",
    "version": 3
   },
   "file_extension": ".py",
   "mimetype": "text/x-python",
   "name": "python",
   "nbconvert_exporter": "python",
   "pygments_lexer": "ipython3",
   "version": "3.9.12"
  }
 },
 "nbformat": 4,
 "nbformat_minor": 5
}
